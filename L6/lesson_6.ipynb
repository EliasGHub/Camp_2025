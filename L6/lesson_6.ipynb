{
 "cells": [
  {
   "cell_type": "markdown",
   "metadata": {},
   "source": [
    "# Task L6\n",
    "\n",
    "**Description**: Linear Regression one variable (manual implementation)\n",
    "\n",
    "### 1. Import necessary libraries"
   ]
  },
  {
   "cell_type": "code",
   "execution_count": 112,
   "metadata": {},
   "outputs": [],
   "source": [
    "import matplotlib.pyplot as plt\n",
    "import pandas as pd \n",
    "import numpy as np \n",
    "from sklearn.model_selection import train_test_split\n",
    "\n",
    "# Set interactive backend\n",
    "%matplotlib inline"
   ]
  },
  {
   "cell_type": "markdown",
   "metadata": {},
   "source": [
    "### 2. Load data set\n",
    "\n",
    "Since the load_boston function is already deprecated, I will use another alternative to retrieve the data, such as fetch_california_housing"
   ]
  },
  {
   "cell_type": "code",
   "execution_count": 138,
   "metadata": {},
   "outputs": [],
   "source": [
    "# from sklearn.datasets import load_boston # load_boston was removed in version 1.2\n",
    "from sklearn.datasets import fetch_openml\n",
    "\n",
    "boston = fetch_openml(name='boston', version=1, as_frame=True)\n",
    "\n",
    "df = boston.data\n",
    "y = boston.target"
   ]
  },
  {
   "cell_type": "markdown",
   "metadata": {},
   "source": [
    "### 3. Select one feature"
   ]
  },
  {
   "cell_type": "code",
   "execution_count": 140,
   "metadata": {},
   "outputs": [],
   "source": [
    "df = df[['RM']].copy()\n",
    "df.loc[:, 'target'] = y"
   ]
  },
  {
   "cell_type": "markdown",
   "metadata": {},
   "source": [
    "### 4. Review the data"
   ]
  },
  {
   "cell_type": "code",
   "execution_count": 142,
   "metadata": {},
   "outputs": [
    {
     "name": "stdout",
     "output_type": "stream",
     "text": [
      "      RM  target\n",
      "0  6.575    24.0\n",
      "1  6.421    21.6\n",
      "2  7.185    34.7\n",
      "3  6.998    33.4\n",
      "4  7.147    36.2\n",
      "5  6.430    28.7\n",
      "6  6.012    22.9\n",
      "7  6.172    27.1\n",
      "8  5.631    16.5\n",
      "9  6.004    18.9\n"
     ]
    },
    {
     "data": {
      "text/html": [
       "<div>\n",
       "<style scoped>\n",
       "    .dataframe tbody tr th:only-of-type {\n",
       "        vertical-align: middle;\n",
       "    }\n",
       "\n",
       "    .dataframe tbody tr th {\n",
       "        vertical-align: top;\n",
       "    }\n",
       "\n",
       "    .dataframe thead th {\n",
       "        text-align: right;\n",
       "    }\n",
       "</style>\n",
       "<table border=\"1\" class=\"dataframe\">\n",
       "  <thead>\n",
       "    <tr style=\"text-align: right;\">\n",
       "      <th></th>\n",
       "      <th>RM</th>\n",
       "      <th>target</th>\n",
       "    </tr>\n",
       "  </thead>\n",
       "  <tbody>\n",
       "    <tr>\n",
       "      <th>count</th>\n",
       "      <td>506.000000</td>\n",
       "      <td>506.000000</td>\n",
       "    </tr>\n",
       "    <tr>\n",
       "      <th>mean</th>\n",
       "      <td>6.284634</td>\n",
       "      <td>22.532806</td>\n",
       "    </tr>\n",
       "    <tr>\n",
       "      <th>std</th>\n",
       "      <td>0.702617</td>\n",
       "      <td>9.197104</td>\n",
       "    </tr>\n",
       "    <tr>\n",
       "      <th>min</th>\n",
       "      <td>3.561000</td>\n",
       "      <td>5.000000</td>\n",
       "    </tr>\n",
       "    <tr>\n",
       "      <th>25%</th>\n",
       "      <td>5.885500</td>\n",
       "      <td>17.025000</td>\n",
       "    </tr>\n",
       "    <tr>\n",
       "      <th>50%</th>\n",
       "      <td>6.208500</td>\n",
       "      <td>21.200000</td>\n",
       "    </tr>\n",
       "    <tr>\n",
       "      <th>75%</th>\n",
       "      <td>6.623500</td>\n",
       "      <td>25.000000</td>\n",
       "    </tr>\n",
       "    <tr>\n",
       "      <th>max</th>\n",
       "      <td>8.780000</td>\n",
       "      <td>50.000000</td>\n",
       "    </tr>\n",
       "  </tbody>\n",
       "</table>\n",
       "</div>"
      ],
      "text/plain": [
       "               RM      target\n",
       "count  506.000000  506.000000\n",
       "mean     6.284634   22.532806\n",
       "std      0.702617    9.197104\n",
       "min      3.561000    5.000000\n",
       "25%      5.885500   17.025000\n",
       "50%      6.208500   21.200000\n",
       "75%      6.623500   25.000000\n",
       "max      8.780000   50.000000"
      ]
     },
     "execution_count": 142,
     "metadata": {},
     "output_type": "execute_result"
    }
   ],
   "source": [
    "print (df.head(10))\n",
    "df.describe ()"
   ]
  },
  {
   "cell_type": "code",
   "execution_count": 144,
   "metadata": {},
   "outputs": [
    {
     "data": {
      "text/plain": [
       "<Axes: xlabel='RM', ylabel='target'>"
      ]
     },
     "execution_count": 144,
     "metadata": {},
     "output_type": "execute_result"
    },
    {
     "data": {
      "image/png": "[encoded data removed]",
      "text/plain": [
       "<Figure size 640x480 with 1 Axes>"
      ]
     },
     "metadata": {},
     "output_type": "display_data"
    }
   ],
   "source": [
    "df.plot.scatter('RM', 'target')"
   ]
  },
  {
   "cell_type": "markdown",
   "metadata": {},
   "source": [
    "## Custom Linear Regression Classifier\n",
    "\n",
    "### 1. Load all data"
   ]
  },
  {
   "cell_type": "code",
   "execution_count": 145,
   "metadata": {},
   "outputs": [],
   "source": [
    "X_full, y = fetch_openml(name='boston', version=1, as_frame=True, return_X_y=True)\n",
    "\n",
    "# Select the values of feature 'AveRooms' only and assign to X\n",
    "X = X_full['RM'].values\n",
    "\n",
    "# Reshape X to 2D\n",
    "X = X.reshape(-1,1)\n",
    "\n",
    "# Apply train_test_split to X and y to get X_train, X_test, y_train, y_test\n",
    "X_train, X_test, y_train, y_test = train_test_split(X, y, test_size=0.2, random_state=42)"
   ]
  },
  {
   "cell_type": "markdown",
   "metadata": {},
   "source": [
    "### 2. Check loaded data"
   ]
  },
  {
   "cell_type": "code",
   "execution_count": 147,
   "metadata": {},
   "outputs": [
    {
     "name": "stdout",
     "output_type": "stream",
     "text": [
      "X_train.shape=  (404, 1)\n",
      "y_train.shape=  (404,)\n"
     ]
    },
    {
     "data": {
      "text/plain": [
       "array([[5.304],\n",
       "       [5.834],\n",
       "       [6.031],\n",
       "       [6.103],\n",
       "       [5.727],\n",
       "       [6.431],\n",
       "       [6.037],\n",
       "       [6.383],\n",
       "       [6.152],\n",
       "       [6.852]])"
      ]
     },
     "execution_count": 147,
     "metadata": {},
     "output_type": "execute_result"
    }
   ],
   "source": [
    "print ('X_train.shape= ',X_train.shape)\n",
    "print ('y_train.shape= ',y_train.shape)\n",
    "X_train[:10]"
   ]
  },
  {
   "cell_type": "markdown",
   "metadata": {},
   "source": [
    "### 3. Develop expresion of h"
   ]
  },
  {
   "cell_type": "code",
   "execution_count": 148,
   "metadata": {},
   "outputs": [],
   "source": [
    "class Linear_Regression_1():\n",
    "    def __init__(self):\n",
    "        pass\n",
    "      \n",
    "      \n",
    "    def h(self, b, w, X):\n",
    "        '''\n",
    "        :param b -  float or ndarry of shape [m,1], m - number of samples\n",
    "        :param w - ndarray of shape [1,n],  n - number of features\n",
    "        :param X - ndarray of shape [m,n], m - number of samples, n - number of features\n",
    "        '''\n",
    "        assert (X.shape[1]== w.shape[1])\n",
    "        h_res = b + np.dot(X, w.T)\n",
    "        return h_res"
   ]
  },
  {
   "cell_type": "markdown",
   "metadata": {},
   "source": [
    "### 4. Check h"
   ]
  },
  {
   "cell_type": "code",
   "execution_count": 150,
   "metadata": {},
   "outputs": [
    {
     "name": "stdout",
     "output_type": "stream",
     "text": [
      "b= -0.276767596147759, \n",
      "w= [[0.581851]], \n",
      "X= \n",
      "[[ 2.14839926]\n",
      " [-1.279487  ]\n",
      " [ 0.50227689]\n",
      " [ 0.8560293 ]\n",
      " [-0.14279008]\n",
      " [ 0.11007867]\n",
      " [-0.68806479]\n",
      " [ 0.43356408]\n",
      " [ 0.510221  ]\n",
      " [-0.16513097]]\n"
     ]
    },
    {
     "data": {
      "text/plain": [
       "array([[ 0.97328067],\n",
       "       [-1.02123839],\n",
       "       [ 0.01548272],\n",
       "       [ 0.22131391],\n",
       "       [-0.35985014],\n",
       "       [-0.21271821],\n",
       "       [-0.67711878],\n",
       "       [-0.0244979 ],\n",
       "       [ 0.02010501],\n",
       "       [-0.37284922]])"
      ]
     },
     "execution_count": 150,
     "metadata": {},
     "output_type": "execute_result"
    }
   ],
   "source": [
    "np.random.seed(2018)\n",
    "b_check= np.random.randn()\n",
    "w_check= np.random.randn(1,1)\n",
    "X_check= np.random.randn(10,1)\n",
    "print('b= {}, \\nw= {}, \\nX= \\n{}'.format(b_check, w_check, X_check))\n",
    "lin_reg_1 = Linear_Regression_1()\n",
    "lin_reg_1.h(b_check, w_check, X_check)"
   ]
  },
  {
   "cell_type": "markdown",
   "metadata": {},
   "source": [
    "### 5. Develop expresion of Cost Function"
   ]
  },
  {
   "cell_type": "code",
   "execution_count": 151,
   "metadata": {},
   "outputs": [],
   "source": [
    "class Linear_Regression_2():\n",
    "    '''\n",
    "    linear regression using gradient descent\n",
    "    '''\n",
    "    def __init__(self):\n",
    "        pass\n",
    "    \n",
    "    \n",
    "    def J(self, h, y):\n",
    "        '''\n",
    "        :param h - ndarray of shape (m,1)\n",
    "        :param y - ndarray of shape (m,1)\n",
    "        :return expression for cost function \n",
    "        '''      \n",
    "        if h.shape != y.shape:\n",
    "            print('h.shape = {} does not match y.shape = {}'.format (h.shape, y.shape))\n",
    "            raise Exception('Check assertion in J')    \n",
    "        \n",
    "        m = h.shape[0]\n",
    "        err = h - y\n",
    "        J_res = (1 / (2 * m)) * np.sum(err ** 2)\n",
    "        return J_res"
   ]
  },
  {
   "cell_type": "markdown",
   "metadata": {},
   "source": [
    "### 6. Check J"
   ]
  },
  {
   "cell_type": "code",
   "execution_count": 152,
   "metadata": {},
   "outputs": [
    {
     "name": "stdout",
     "output_type": "stream",
     "text": [
      "y= [[-0.21767896]\n",
      " [ 0.82145535]\n",
      " [ 1.48127781]\n",
      " [ 1.33186404]\n",
      " [-0.36186537]\n",
      " [ 0.68560883]\n",
      " [ 0.57376143]\n",
      " [ 0.28772767]\n",
      " [-0.23563426]\n",
      " [ 0.95349024]], \n",
      "h= [[-1.6896253 ]\n",
      " [-0.34494271]\n",
      " [ 0.0169049 ]\n",
      " [-0.51498352]\n",
      " [ 0.24450929]\n",
      " [-0.18931261]\n",
      " [ 2.67217242]\n",
      " [ 0.46480249]\n",
      " [ 0.84593044]\n",
      " [-0.50354158]]\n"
     ]
    },
    {
     "data": {
      "text/plain": [
       "np.float64(0.897146515186598)"
      ]
     },
     "execution_count": 152,
     "metadata": {},
     "output_type": "execute_result"
    }
   ],
   "source": [
    "np.random.seed(2019)\n",
    "m = 10 \n",
    "y_check= np.random.randn(m,1)\n",
    "h_check= np.random.randn(m,1)\n",
    "print('y= {}, \\nh= {}'.format(y_check, h_check))\n",
    "lin_reg_2 = Linear_Regression_2()\n",
    "lin_reg_2.m = m \n",
    "lin_reg_2.J(h_check, y_check)"
   ]
  },
  {
   "cell_type": "markdown",
   "metadata": {},
   "source": [
    "### 7. Develop expresion of Cost Function derivative"
   ]
  },
  {
   "cell_type": "code",
   "execution_count": 153,
   "metadata": {},
   "outputs": [],
   "source": [
    "class Linear_Regression_3():\n",
    "    def __init__(self, max_iter=1e5, alpha=1, eps=1e-10, verbose=0):\n",
    "        pass        \n",
    "    \n",
    "    \n",
    "    def h(self, b, w, X):\n",
    "        '''\n",
    "        :param b -  float or ndarry of shape [m,1], m - number of samples\n",
    "        :param w - ndarray of shape [1,m],  n - number of features\n",
    "        :param X - ndarray of shape [m,n], m - number of samples, n - number of features\n",
    "        '''\n",
    "        assert (X.shape[1] == w.shape[1])\n",
    "        h_res = b + np.dot(X, w.T)\n",
    "        \n",
    "        return h_res\n",
    "    \n",
    "        \n",
    "    def J_derivative(self, params, X, y):\n",
    "        '''\n",
    "        :param params - tuple (b,w), where w is the 2d ndarry of shape (1,n), n- number of features \n",
    "        :param X- ndarray of shape (m, n)\n",
    "        :param y - ndarray of shape (m,1)\n",
    "        :return tuple of derivatrives of cost function by b and w\n",
    "        '''\n",
    "        b, w = params\n",
    "        assert (w.shape == (1, self.n))                \n",
    "        h_val = self.h(b, w, X)\n",
    "        \n",
    "        if h_val.shape != (self.m, 1):\n",
    "            print('h.shape = {}, but expected {}'.format(h_val.shape, (self.m, 1)))\n",
    "            raise Exception('Check assertion in J_derivative')\n",
    "        \n",
    "        m = X.shape[0]\n",
    "        dJ_b = np.sum(h_val - y) / m\n",
    "        dJ_w = np.dot((h_val - y).T, X) / m\n",
    "        \n",
    "        return (dJ_b, dJ_w)"
   ]
  },
  {
   "cell_type": "markdown",
   "metadata": {},
   "source": [
    "### 8. Check cost function derivatives"
   ]
  },
  {
   "cell_type": "code",
   "execution_count": 154,
   "metadata": {},
   "outputs": [
    {
     "name": "stdout",
     "output_type": "stream",
     "text": [
      "X= [[-1.76884571]\n",
      " [ 0.07555227]\n",
      " [-1.1306297 ]\n",
      " [-0.65143017]\n",
      " [-0.89311563]\n",
      " [-1.27410098]\n",
      " [-0.06115443]\n",
      " [ 0.06451384]\n",
      " [ 0.41011295]\n",
      " [-0.57288249]], \n",
      "y= [[-0.80133362]\n",
      " [ 1.31203519]\n",
      " [ 1.27469887]\n",
      " [-1.2143576 ]\n",
      " [ 0.31371941]\n",
      " [-1.44482142]\n",
      " [-0.3689613 ]\n",
      " [-0.76922658]\n",
      " [ 0.3926161 ]\n",
      " [ 0.05729383]], \n",
      "b= 2.0899788404287745 \n",
      "w= [[0.04197131]]\n"
     ]
    },
    {
     "data": {
      "text/plain": [
       "(np.float64(2.190460881995871), array([[-1.43284262]]))"
      ]
     },
     "execution_count": 154,
     "metadata": {},
     "output_type": "execute_result"
    }
   ],
   "source": [
    "np.random.seed(2020)\n",
    "m = 10 \n",
    "n = 1\n",
    "X_check= np.random.randn(m,n)\n",
    "y_check= np.random.randn(m,1)\n",
    "b_check= np.random.randn()\n",
    "w_check= np.random.randn(1,n)\n",
    "params = b_check,w_check \n",
    "print('X= {}, \\ny= {}, \\nb= {} \\nw= {}'.format(X_check, y_check, b_check, w_check))\n",
    "\n",
    "lin_reg_3 = Linear_Regression_3()\n",
    "lin_reg_3.m = m \n",
    "lin_reg_3.n = n \n",
    "lin_reg_3.J_derivative(params, X_check, y_check)"
   ]
  },
  {
   "cell_type": "markdown",
   "metadata": {},
   "source": [
    "### 9. Develop gradient descent"
   ]
  },
  {
   "cell_type": "code",
   "execution_count": 168,
   "metadata": {},
   "outputs": [],
   "source": [
    "import numpy as np\n",
    "\n",
    "class Linear_Regression_4():\n",
    "    '''\n",
    "    linear regression using gradient descent\n",
    "    '''\n",
    "    def __init__(self, max_iter=1e5, alpha=0.01, eps=1e-10, verbose=0):\n",
    "        '''\n",
    "        :param verbose: set 1 to display more details of J val changes\n",
    "        '''\n",
    "        self.max_iter = int(max_iter)\n",
    "        self.alpha = alpha\n",
    "        self.eps = eps\n",
    "        self.verbose = verbose       \n",
    "        \n",
    "    def h(self, b, w, X):\n",
    "        '''\n",
    "        :param b -  float or ndarry of shape [m,1], m - number of samples\n",
    "        :param w - ndarray of shape [1,n],  n - number of features\n",
    "        :param X - ndarray of shape [m,n], m - number of samples, n - number of features\n",
    "        ''' \n",
    "        assert (X.shape[1] == w.shape[1])\n",
    "        h_res = X @ w.T + b\n",
    "        if h_res.shape != (X.shape[0], 1):\n",
    "            print('h.shape = {} but expected {}'.format(h_res.shape, (self.m, 1)))\n",
    "            raise Exception('Check assertion in h')    \n",
    "        return h_res\n",
    "\n",
    "    def J(self, h, y):\n",
    "        '''\n",
    "        :param h - ndarray of shape (m,1)\n",
    "        :param y - ndarray of shape (m,1)\n",
    "        :return expression for cost function \n",
    "        '''     \n",
    "        if h.shape != y.shape:\n",
    "            print('h.shape = {} does not match y.shape = {}.Expected {}'.format(h.shape, y.shape, (self.m, 1)))\n",
    "            raise Exception('Check assertion in J')   \n",
    "        J_res = (1 / (2 * self.m)) * np.sum((h - y) ** 2)\n",
    "        return J_res\n",
    "        \n",
    "    def J_derivative(self, params, X, y): \n",
    "        '''\n",
    "        :param params - tuple (b,w), where w is the 2d ndarry of shape (1,n), n- number of features \n",
    "        :param X- ndarray of shape (m, n)\n",
    "        :param y - ndarray of shape (m,1)\n",
    "        :return tuple of derivatrives of cost function by b and w\n",
    "        '''\n",
    "        b, w = params\n",
    "        assert (w.shape == (1, self.n))                \n",
    "        h_val = self.h(b, w, X)\n",
    "        if h_val.shape != (self.m, 1):\n",
    "            print('h.shape = {}, but expected {}'.format(h_val.shape, (self.m, 1)))\n",
    "            raise Exception('Check assertion in J_derivative')\n",
    "\n",
    "        dJ_b = (1 / self.m) * np.sum(h_val - y)\n",
    "\n",
    "        dJ_w = (1 / self.m) * ((h_val - y).T @ X)\n",
    "        return (dJ_b, dJ_w)\n",
    "\n",
    "    def fit(self, X, y):\n",
    "        '''\n",
    "        :param X - ndarray training set of shape [m,n], m - number of samples, n - number of features\n",
    "        :param y - ndarray - 1d array \n",
    "        :return: True in case of successful fit \n",
    "        '''\n",
    "        if self.verbose: \n",
    "            print('Running gradient descent with alpha = {}, eps= {}, max_iter= {}'.format(\n",
    "                self.alpha, self.eps, self.max_iter))\n",
    "        self.m, self.n= X.shape # number of samples, number of features  \n",
    "        y = np.array(y).reshape(self.m, 1) # make it 2 d to make sure it corresponds to h_val\n",
    "        b = 0 # init intercept with 0\n",
    "        w= np.zeros(self.n).reshape(1,-1) # make sure it's shape is [1,n]\n",
    "        params = (b,w)\n",
    "        \n",
    "        self.J_hist=[-1] # used for keeping J values. Init with -1 to avoid 0 at first iter\n",
    "        continue_iter = True # flag to continue next iter (grad desc step)\n",
    "        iter_number =0 # used for limit by max_iter\n",
    "\n",
    "        while continue_iter:\n",
    "            # Do step of gradient descent \n",
    "            dJ_b, dJ_w = self.J_derivative(params, X, y)\n",
    "            b = b - self.alpha * dJ_b\n",
    "            w = w - self.alpha * dJ_w\n",
    "            params = (b, w)\n",
    "\n",
    "            # keep history of J values\n",
    "            self.J_hist.append(self.J(self.h(b, w, X), y))\n",
    "            if self.verbose:\n",
    "                print('b = {}, w= {}, J= {}'.format(b, w, self.J_hist[-1]))\n",
    "            if self.max_iter and iter_number >= self.max_iter:\n",
    "                continue_iter = False\n",
    "            elif np.abs(self.J_hist[iter_number] - self.J_hist[iter_number + 1]) < self.eps:\n",
    "                continue_iter = False\n",
    "            iter_number += 1\n",
    "        \n",
    "        # store the final params to further using     \n",
    "        self.intercept_, self.coef_ = params        \n",
    "        return True\n"
   ]
  },
  {
   "cell_type": "markdown",
   "metadata": {},
   "source": [
    "### 10. Check gradient descent"
   ]
  },
  {
   "cell_type": "code",
   "execution_count": 169,
   "metadata": {},
   "outputs": [
    {
     "name": "stdout",
     "output_type": "stream",
     "text": [
      "X= [[ 1.48860905]\n",
      " [ 0.67601087]\n",
      " [-0.41845137]\n",
      " [-0.80652081]\n",
      " [ 0.55587583]\n",
      " [-0.70550429]\n",
      " [ 1.13085826]\n",
      " [ 0.64500184]\n",
      " [ 0.10641374]\n",
      " [ 0.42215483]], \n",
      "y= [[ 0.12420684]\n",
      " [-0.83795346]\n",
      " [ 0.4090157 ]\n",
      " [ 0.10275122]\n",
      " [-1.90772239]\n",
      " [ 1.1002243 ]\n",
      " [-1.40232506]\n",
      " [-0.22508127]\n",
      " [-1.33620597]\n",
      " [ 0.30372151]]\n",
      "Running gradient descent with alpha = 1, eps= 1e-10, max_iter= 5\n",
      "b = -0.36693685587288444, w= [[-0.4217246]], J= 0.33976525493056825\n",
      "b = -0.23643637277401236, w= [[-0.46886908]], J= 0.3278115023016167\n",
      "b = -0.22184776004990137, w= [[-0.52721539]], J= 0.3250909705515032\n",
      "b = -0.20379279582278398, w= [[-0.55396166]], J= 0.32428457786538833\n",
      "b = -0.19551630227029396, w= [[-0.5697399]], J= 0.32403801171263197\n",
      "b = -0.19063380881762437, w= [[-0.57831305]], J= 0.3239623872203208\n"
     ]
    },
    {
     "data": {
      "text/plain": [
       "True"
      ]
     },
     "execution_count": 169,
     "metadata": {},
     "output_type": "execute_result"
    }
   ],
   "source": [
    "np.random.seed(2021)\n",
    "m = 10 \n",
    "n = 1\n",
    "X_check= np.random.randn(m,n)\n",
    "y_check= np.random.randn(m,1)\n",
    "print('X= {}, \\ny= {}'.format(X_check, y_check))\n",
    "lin_reg_4 = Linear_Regression_4(alpha = 1, max_iter = 5, verbose=1)\n",
    "lin_reg_4.fit(X_check, y_check)"
   ]
  },
  {
   "cell_type": "markdown",
   "metadata": {},
   "source": [
    "## Alltogether"
   ]
  },
  {
   "cell_type": "code",
   "execution_count": 170,
   "metadata": {},
   "outputs": [],
   "source": [
    "from sklearn.metrics import r2_score\n",
    "import numpy as np\n",
    "\n",
    "class Linear_Regression():\n",
    "    '''\n",
    "    linear regression using gradient descent\n",
    "    '''\n",
    "    def __init__(self, max_iter=1e5, alpha=0.01, eps=1e-10, verbose=0):\n",
    "        '''\n",
    "        :param verbose: set 1 to display more details of J val changes\n",
    "        '''\n",
    "        self.max_iter = int(max_iter)\n",
    "        self.alpha = alpha\n",
    "        self.eps = eps\n",
    "        self.verbose = verbose       \n",
    "        \n",
    "    def h(self, b, w, X):\n",
    "        '''\n",
    "        :param b -  float or ndarry of shape [m,1], m - number of samples\n",
    "        :param w - ndarray of shape [1,n],  n - number of features\n",
    "        :param X - ndarray of shape [m,n], m - number of samples, n - number of features\n",
    "        ''' \n",
    "        assert (X.shape[1] == w.shape[1])\n",
    "        h_res = X @ w.T + b\n",
    "        if h_res.shape != (X.shape[0], 1):\n",
    "            print('h.shape = {} but expected {}'.format(h_res.shape, (self.m, 1)))\n",
    "            raise Exception('Check assertion in h')    \n",
    "        return h_res\n",
    "\n",
    "    def J(self, h, y):\n",
    "        '''\n",
    "        :param h - ndarray of shape (m,1)\n",
    "        :param y - ndarray of shape (m,1)\n",
    "        :return expression for cost function \n",
    "        '''     \n",
    "        if h.shape != y.shape:\n",
    "            print('h.shape = {} does not match y.shape = {}.Expected {}'.format(h.shape, y.shape, (self.m, 1)))\n",
    "            raise Exception('Check assertion in J')   \n",
    "        J_res = (1 / (2 * self.m)) * np.sum((h - y) ** 2)\n",
    "        return J_res\n",
    "        \n",
    "    def J_derivative(self, params, X, y): \n",
    "        '''\n",
    "        :param params - tuple (b,w), where w is the 2d ndarry of shape (1,n), n- number of features \n",
    "        :param X- ndarray of shape (m, n)\n",
    "        :param y - ndarray of shape (m,1)\n",
    "        :return tuple of derivatrives of cost function by b and w\n",
    "        '''\n",
    "        b, w = params\n",
    "        assert (w.shape == (1, self.n))                \n",
    "        h_val = self.h(b, w, X)\n",
    "        if h_val.shape != (self.m, 1):\n",
    "            print('h.shape = {}, but expected {}'.format(h_val.shape, (self.m, 1)))\n",
    "            raise Exception('Check assertion in J_derivative')\n",
    "\n",
    "        dJ_b = (1 / self.m) * np.sum(h_val - y)\n",
    "\n",
    "        dJ_w = (1 / self.m) * ((h_val - y).T @ X)\n",
    "        return (dJ_b, dJ_w)\n",
    "\n",
    "    def fit(self, X, y):\n",
    "        '''\n",
    "        :param X - ndarray training set of shape [m,n], m - number of samples, n - number of features\n",
    "        :param y - ndarray - 1d array \n",
    "        :return: True in case of successful fit \n",
    "        '''\n",
    "        if self.verbose: \n",
    "            print('Running gradient descent with alpha = {}, eps= {}, max_iter= {}'.format(\n",
    "                self.alpha, self.eps, self.max_iter))\n",
    "        self.m, self.n= X.shape # number of samples, number of features  \n",
    "        y = np.array(y).reshape(self.m, 1) # make it 2 d to make sure it corresponds to h_val\n",
    "        b = 0 # init intercept with 0\n",
    "        w= np.zeros(self.n).reshape(1,-1) # make sure it's shape is [1,n]\n",
    "        params = (b,w)\n",
    "        \n",
    "        self.J_hist=[-1] # used for keeping J values. Init with -1 to avoid 0 at first iter\n",
    "        continue_iter = True # flag to continue next iter (grad desc step)\n",
    "        iter_number =0 # used for limit by max_iter\n",
    "\n",
    "        while continue_iter:\n",
    "            # Do step of gradient descent \n",
    "            dJ_b, dJ_w = self.J_derivative(params, X, y)\n",
    "            b = b - self.alpha * dJ_b\n",
    "            w = w - self.alpha * dJ_w\n",
    "            params = (b, w)\n",
    "\n",
    "            # keep history of J values\n",
    "            self.J_hist.append(self.J(self.h(b, w, X), y))\n",
    "            if self.verbose:\n",
    "                print('b = {}, w= {}, J= {}'.format(b, w, self.J_hist[-1]))\n",
    "            if self.max_iter and iter_number >= self.max_iter:\n",
    "                continue_iter = False\n",
    "            elif np.abs(self.J_hist[iter_number] - self.J_hist[iter_number + 1]) < self.eps:\n",
    "                continue_iter = False\n",
    "            iter_number += 1\n",
    "        \n",
    "        # store the final params to further using     \n",
    "        self.intercept_, self.coef_ = params        \n",
    "        return True\n",
    "        \n",
    "        \n",
    "    def draw_cost_changes(self):        \n",
    "        J_hist= self.J_hist[1:]\n",
    "        plt.figure()\n",
    "        plt.scatter(np.arange(0,len(J_hist)),J_hist,s=20,marker='.',c='b')\n",
    "        plt.xlabel('Iterations')\n",
    "        plt.ylabel('Cost function J value')\n",
    "        title_str = 'Complited: {}, alpha ={}, max_iter={}, eps={}'.format( len(self.J_hist)-2, self.alpha, self.max_iter,self.eps)\n",
    "        # Note: len(J_hist)-2) due to first one is -1 (was not iteration), iter + 1  at the end  of the gradient loop\n",
    "        plt.title(title_str)\n",
    " \n",
    "\n",
    "    def predict(self, X): \n",
    "        '''\n",
    "        :param X - ndarray of shape (?,n)\n",
    "        :return \n",
    "        '''\n",
    "        return self.h(self.intercept_, self.coef_, X)\n",
    "        \n",
    "   \n",
    "    def score(self, X_test, y_test):\n",
    "        '''\n",
    "        :param X_test - ndarray testing set or any for prediction of shape [?,n], ? - number of samples, n - number of features\n",
    "        :param y_test - ndarray - 1d array \n",
    "        :return R2 score of y_test and prediction for X_test\n",
    "        '''\n",
    "        z= self.predict(X_test)\n",
    "\n",
    "        return (r2_score(y_test, z))"
   ]
  },
  {
   "cell_type": "markdown",
   "metadata": {},
   "source": [
    "### 1. Check results"
   ]
  },
  {
   "cell_type": "code",
   "execution_count": 171,
   "metadata": {},
   "outputs": [
    {
     "name": "stdout",
     "output_type": "stream",
     "text": [
      "X_train.shape=  (404, 1)\n",
      "y_train.shape=  (404,)\n",
      "X_train= \n",
      "[[5.304]\n",
      " [5.834]\n",
      " [6.031]\n",
      " [6.103]\n",
      " [5.727]]\n",
      "R2 Score = 0.3709701523776461\n",
      "b: -36.16490413510858, w= [[9.33556735]]\n"
     ]
    },
    {
     "data": {
      "image/png": "[encoded data removed]",
      "text/plain": [
       "<Figure size 640x480 with 1 Axes>"
      ]
     },
     "metadata": {},
     "output_type": "display_data"
    }
   ],
   "source": [
    "print ('X_train.shape= ',X_train.shape)\n",
    "print ('y_train.shape= ',y_train.shape)\n",
    "print ('X_train= \\n{}'.format (X_train[:5,:]))\n",
    "lin_reg = Linear_Regression(alpha= 0.01, verbose=0, eps=1e-8)\n",
    "lin_reg.fit (X_train, y_train)\n",
    "lin_reg.draw_cost_changes()\n",
    "print ('R2 Score =', lin_reg.score(X_test, y_test))\n",
    "print ('b: {}, w= {}'.format(lin_reg.intercept_, lin_reg.coef_)) "
   ]
  },
  {
   "cell_type": "markdown",
   "metadata": {},
   "source": [
    "### 2. Draw scatter and prediction for one feature"
   ]
  },
  {
   "cell_type": "code",
   "execution_count": 172,
   "metadata": {},
   "outputs": [
    {
     "data": {
      "text/plain": [
       "[<matplotlib.lines.Line2D at 0x26cf3077110>]"
      ]
     },
     "execution_count": 172,
     "metadata": {},
     "output_type": "execute_result"
    },
    {
     "data": {
      "image/png": "[encoded data removed]",
      "text/plain": [
       "<Figure size 640x480 with 1 Axes>"
      ]
     },
     "metadata": {},
     "output_type": "display_data"
    }
   ],
   "source": [
    "if X_train.shape[1]>1:\n",
    "    raise Exception ('Select single feature to plot')\n",
    "plt.figure()\n",
    "plt.scatter(X_train, y_train)\n",
    "x_line= np.array([np.min(X_train), np.max(X_train)])\n",
    "z_line = lin_reg.predict(x_line.reshape(-1,1))\n",
    "plt.plot(x_line, z_line, '-', c='red')"
   ]
  },
  {
   "cell_type": "markdown",
   "metadata": {},
   "source": [
    "### 3. Using normalization"
   ]
  },
  {
   "cell_type": "code",
   "execution_count": 173,
   "metadata": {},
   "outputs": [
    {
     "name": "stdout",
     "output_type": "stream",
     "text": [
      "R2 Score = 0.37075967913579067\n",
      "b: 22.795589278255086, w= [[6.62368094]]\n"
     ]
    },
    {
     "data": {
      "image/png": "[encoded data removed]",
      "text/plain": [
       "<Figure size 640x480 with 1 Axes>"
      ]
     },
     "metadata": {},
     "output_type": "display_data"
    }
   ],
   "source": [
    "from sklearn.preprocessing import StandardScaler\n",
    "scaler = StandardScaler()\n",
    "\n",
    "X_train_scaled= scaler.fit_transform(X_train)\n",
    "X_test_scaled= scaler.transform(X_test)\n",
    "\n",
    "lin_reg = Linear_Regression(alpha= 0.01, verbose=0, eps=1e-8)\n",
    "lin_reg.fit (X_train_scaled, y_train)\n",
    "print ('R2 Score =',lin_reg.score(X_test_scaled, y_test))\n",
    "lin_reg.draw_cost_changes()\n",
    "print ('b: {}, w= {}'.format(lin_reg.intercept_, lin_reg.coef_))"
   ]
  },
  {
   "cell_type": "markdown",
   "metadata": {},
   "source": [
    "## Run Linear Regression for multi features"
   ]
  },
  {
   "cell_type": "code",
   "execution_count": null,
   "metadata": {},
   "outputs": [
    {
     "name": "stdout",
     "output_type": "stream",
     "text": [
      "X_train.shape=  (379, 13)\n",
      "y_train.shape=  (379,)\n",
      "X_train[:5]=\n",
      "          CRIM    ZN  INDUS CHAS    NOX     RM   AGE     DIS RAD    TAX  \\\n",
      "11    0.11747  12.5   7.87    0  0.524  6.009  82.9  6.2267   5  311.0   \n",
      "422  12.04820   0.0  18.10    0  0.614  5.648  87.6  1.9512  24  666.0   \n",
      "69    0.12816  12.5   6.07    0  0.409  5.885  33.0  6.4980   4  345.0   \n",
      "267   0.57834  20.0   3.97    0  0.575  8.297  67.0  2.4216   5  264.0   \n",
      "395   8.71675   0.0  18.10    0  0.693  6.471  98.8  1.7257  24  666.0   \n",
      "\n",
      "     PTRATIO       B  LSTAT  \n",
      "11      15.2  396.90  13.27  \n",
      "422     20.2  291.55  14.10  \n",
      "69      18.9  396.90   8.79  \n",
      "267     13.0  384.54   7.44  \n",
      "395     20.2  391.98  17.12  \n"
     ]
    },
    {
     "data": {
      "text/html": [
       "<div>\n",
       "<style scoped>\n",
       "    .dataframe tbody tr th:only-of-type {\n",
       "        vertical-align: middle;\n",
       "    }\n",
       "\n",
       "    .dataframe tbody tr th {\n",
       "        vertical-align: top;\n",
       "    }\n",
       "\n",
       "    .dataframe thead th {\n",
       "        text-align: right;\n",
       "    }\n",
       "</style>\n",
       "<table border=\"1\" class=\"dataframe\">\n",
       "  <thead>\n",
       "    <tr style=\"text-align: right;\">\n",
       "      <th></th>\n",
       "      <th>CRIM</th>\n",
       "      <th>ZN</th>\n",
       "      <th>INDUS</th>\n",
       "      <th>CHAS</th>\n",
       "      <th>NOX</th>\n",
       "      <th>RM</th>\n",
       "      <th>AGE</th>\n",
       "      <th>DIS</th>\n",
       "      <th>RAD</th>\n",
       "      <th>TAX</th>\n",
       "      <th>PTRATIO</th>\n",
       "      <th>B</th>\n",
       "      <th>LSTAT</th>\n",
       "    </tr>\n",
       "  </thead>\n",
       "  <tbody>\n",
       "    <tr>\n",
       "      <th>11</th>\n",
       "      <td>0.11747</td>\n",
       "      <td>12.5</td>\n",
       "      <td>7.87</td>\n",
       "      <td>0</td>\n",
       "      <td>0.524</td>\n",
       "      <td>6.009</td>\n",
       "      <td>82.9</td>\n",
       "      <td>6.2267</td>\n",
       "      <td>5</td>\n",
       "      <td>311.0</td>\n",
       "      <td>15.2</td>\n",
       "      <td>396.90</td>\n",
       "      <td>13.27</td>\n",
       "    </tr>\n",
       "    <tr>\n",
       "      <th>422</th>\n",
       "      <td>12.04820</td>\n",
       "      <td>0.0</td>\n",
       "      <td>18.10</td>\n",
       "      <td>0</td>\n",
       "      <td>0.614</td>\n",
       "      <td>5.648</td>\n",
       "      <td>87.6</td>\n",
       "      <td>1.9512</td>\n",
       "      <td>24</td>\n",
       "      <td>666.0</td>\n",
       "      <td>20.2</td>\n",
       "      <td>291.55</td>\n",
       "      <td>14.10</td>\n",
       "    </tr>\n",
       "    <tr>\n",
       "      <th>69</th>\n",
       "      <td>0.12816</td>\n",
       "      <td>12.5</td>\n",
       "      <td>6.07</td>\n",
       "      <td>0</td>\n",
       "      <td>0.409</td>\n",
       "      <td>5.885</td>\n",
       "      <td>33.0</td>\n",
       "      <td>6.4980</td>\n",
       "      <td>4</td>\n",
       "      <td>345.0</td>\n",
       "      <td>18.9</td>\n",
       "      <td>396.90</td>\n",
       "      <td>8.79</td>\n",
       "    </tr>\n",
       "    <tr>\n",
       "      <th>267</th>\n",
       "      <td>0.57834</td>\n",
       "      <td>20.0</td>\n",
       "      <td>3.97</td>\n",
       "      <td>0</td>\n",
       "      <td>0.575</td>\n",
       "      <td>8.297</td>\n",
       "      <td>67.0</td>\n",
       "      <td>2.4216</td>\n",
       "      <td>5</td>\n",
       "      <td>264.0</td>\n",
       "      <td>13.0</td>\n",
       "      <td>384.54</td>\n",
       "      <td>7.44</td>\n",
       "    </tr>\n",
       "    <tr>\n",
       "      <th>395</th>\n",
       "      <td>8.71675</td>\n",
       "      <td>0.0</td>\n",
       "      <td>18.10</td>\n",
       "      <td>0</td>\n",
       "      <td>0.693</td>\n",
       "      <td>6.471</td>\n",
       "      <td>98.8</td>\n",
       "      <td>1.7257</td>\n",
       "      <td>24</td>\n",
       "      <td>666.0</td>\n",
       "      <td>20.2</td>\n",
       "      <td>391.98</td>\n",
       "      <td>17.12</td>\n",
       "    </tr>\n",
       "  </tbody>\n",
       "</table>\n",
       "</div>"
      ],
      "text/plain": [
       "         CRIM    ZN  INDUS CHAS    NOX     RM   AGE     DIS RAD    TAX  \\\n",
       "11    0.11747  12.5   7.87    0  0.524  6.009  82.9  6.2267   5  311.0   \n",
       "422  12.04820   0.0  18.10    0  0.614  5.648  87.6  1.9512  24  666.0   \n",
       "69    0.12816  12.5   6.07    0  0.409  5.885  33.0  6.4980   4  345.0   \n",
       "267   0.57834  20.0   3.97    0  0.575  8.297  67.0  2.4216   5  264.0   \n",
       "395   8.71675   0.0  18.10    0  0.693  6.471  98.8  1.7257  24  666.0   \n",
       "\n",
       "     PTRATIO       B  LSTAT  \n",
       "11      15.2  396.90  13.27  \n",
       "422     20.2  291.55  14.10  \n",
       "69      18.9  396.90   8.79  \n",
       "267     13.0  384.54   7.44  \n",
       "395     20.2  391.98  17.12  "
      ]
     },
     "execution_count": 180,
     "metadata": {},
     "output_type": "execute_result"
    }
   ],
   "source": [
    "np.random.seed(2021)\n",
    "X, y = fetch_openml(name='boston', version=1, return_X_y=True, as_frame=True)\n",
    "\n",
    "# X = X[['RM']].values\n",
    "# y = y.values\n",
    "\n",
    "X_train, X_test, y_train, y_test = train_test_split(X, y, random_state=2018)\n",
    "\n",
    "print('X_train.shape= ', X_train.shape)\n",
    "print('y_train.shape= ', y_train.shape)\n",
    "print('X_train[:5]=\\n', X_train[:5])\n",
    "X_train[:5]"
   ]
  },
  {
   "cell_type": "code",
   "execution_count": 181,
   "metadata": {},
   "outputs": [],
   "source": [
    "from sklearn.preprocessing import StandardScaler\n",
    "scaler = StandardScaler()\n",
    "X_train_scaled= scaler.fit_transform(X_train)\n",
    "X_test_scaled= scaler.transform(X_test)"
   ]
  },
  {
   "cell_type": "code",
   "execution_count": 182,
   "metadata": {},
   "outputs": [
    {
     "name": "stdout",
     "output_type": "stream",
     "text": [
      "R2 training Score = 0.7283109539351162\n",
      "R2 Score = 0.7714388325502527\n",
      "b: 22.199472295514497, w= [[-6.71830658e-01  1.10017345e+00  3.90001036e-03  8.26310696e-01\n",
      "  -2.22621836e+00  2.43476641e+00  2.54103095e-01 -3.29476208e+00\n",
      "   2.45067848e+00 -1.99239213e+00 -1.95016226e+00  7.67364225e-01\n",
      "  -4.20579594e+00]]\n"
     ]
    },
    {
     "data": {
      "image/png": "[encoded data removed]",
      "text/plain": [
       "<Figure size 640x480 with 1 Axes>"
      ]
     },
     "metadata": {},
     "output_type": "display_data"
    }
   ],
   "source": [
    "lin_reg = Linear_Regression(alpha= 0.1, verbose=0, eps=1e-5, max_iter=100000)\n",
    "lin_reg.fit (X_train_scaled, y_train)\n",
    "lin_reg.draw_cost_changes()\n",
    "print ('R2 training Score =', lin_reg.score(X_train_scaled, y_train))\n",
    "print ('R2 Score =', lin_reg.score(X_test_scaled, y_test))\n",
    "print ('b: {}, w= {}'.format(lin_reg.intercept_, lin_reg.coef_)) "
   ]
  },
  {
   "cell_type": "markdown",
   "metadata": {},
   "source": [
    "### Compare with sklearn"
   ]
  },
  {
   "cell_type": "code",
   "execution_count": 183,
   "metadata": {},
   "outputs": [
    {
     "data": {
      "text/plain": [
       "0.7716066981275935"
      ]
     },
     "execution_count": 183,
     "metadata": {},
     "output_type": "execute_result"
    }
   ],
   "source": [
    "from sklearn.linear_model import LinearRegression\n",
    "lin_reg_sklearn = LinearRegression().fit(X_train_scaled, y_train)\n",
    "lin_reg_sklearn.score(X_test_scaled, y_test)"
   ]
  }
 ],
 "metadata": {
  "kernelspec": {
   "display_name": ".venv",
   "language": "python",
   "name": "python3"
  },
  "language_info": {
   "codemirror_mode": {
    "name": "ipython",
    "version": 3
   },
   "file_extension": ".py",
   "mimetype": "text/x-python",
   "name": "python",
   "nbconvert_exporter": "python",
   "pygments_lexer": "ipython3",
   "version": "3.13.1"
  }
 },
 "nbformat": 4,
 "nbformat_minor": 2
}
