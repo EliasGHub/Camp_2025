{
 "cells": [
  {
   "cell_type": "markdown",
   "id": "8e9ce492",
   "metadata": {},
   "source": [
    "# Task L8\n",
    "\n",
    "**Description**: Brest cancer dataset, DecisionTree, RandomForest, GBDT, XGBoost"
   ]
  },
  {
   "cell_type": "code",
   "execution_count": 1,
   "id": "24561358",
   "metadata": {},
   "outputs": [],
   "source": [
    "from sklearn.datasets import load_breast_cancer\n",
    "from sklearn.model_selection import train_test_split\n",
    "from sklearn.tree import DecisionTreeClassifier\n",
    "from sklearn import tree\n",
    "import graphviz"
   ]
  },
  {
   "cell_type": "markdown",
   "id": "02702f61",
   "metadata": {},
   "source": [
    "### 1. Load the breast cancer dataset"
   ]
  },
  {
   "cell_type": "code",
   "execution_count": 6,
   "id": "e1ecadd2",
   "metadata": {},
   "outputs": [
    {
     "name": "stdout",
     "output_type": "stream",
     "text": [
      "labels: ['malignant' 'benign']\n",
      "features: ['mean radius' 'mean texture' 'mean perimeter' 'mean area'\n",
      " 'mean smoothness' 'mean compactness' 'mean concavity'\n",
      " 'mean concave points' 'mean symmetry' 'mean fractal dimension'\n",
      " 'radius error' 'texture error' 'perimeter error' 'area error'\n",
      " 'smoothness error' 'compactness error' 'concavity error'\n",
      " 'concave points error' 'symmetry error' 'fractal dimension error'\n",
      " 'worst radius' 'worst texture' 'worst perimeter' 'worst area'\n",
      " 'worst smoothness' 'worst compactness' 'worst concavity'\n",
      " 'worst concave points' 'worst symmetry' 'worst fractal dimension']\n"
     ]
    }
   ],
   "source": [
    "cancer = load_breast_cancer()\n",
    "X, y, labels, features = cancer.data, cancer.target, cancer.target_names, cancer.feature_names\n",
    "print('labels:', labels)\n",
    "print('features:', features)"
   ]
  },
  {
   "cell_type": "markdown",
   "id": "9876fb49",
   "metadata": {},
   "source": [
    "### 2. Splitting data into training and test samples"
   ]
  },
  {
   "cell_type": "code",
   "execution_count": 7,
   "id": "b49efb16",
   "metadata": {},
   "outputs": [],
   "source": [
    "X_train, X_test, y_train, y_test = train_test_split(X, y, random_state=0)\n"
   ]
  },
  {
   "cell_type": "markdown",
   "id": "1b82ad03",
   "metadata": {},
   "source": [
    "### 3. Creating and training a decision tree model"
   ]
  },
  {
   "cell_type": "code",
   "execution_count": 8,
   "id": "bf441a70",
   "metadata": {},
   "outputs": [
    {
     "name": "stdout",
     "output_type": "stream",
     "text": [
      "train accuracy= 100.000%\n",
      "test accuracy= 88.112%\n"
     ]
    },
    {
     "data": {
      "text/plain": [
       "'Source.gv.pdf'"
      ]
     },
     "execution_count": 8,
     "metadata": {},
     "output_type": "execute_result"
    }
   ],
   "source": [
    "clf = DecisionTreeClassifier(random_state=0)\n",
    "clf.fit(X_train, y_train)\n",
    "\n",
    "# Derivation of accuracy\n",
    "print(\"train accuracy= {:.3%}\".format(clf.score(X_train, y_train)))\n",
    "print(\"test accuracy= {:.3%}\".format(clf.score(X_test, y_test)))\n",
    "\n",
    "# Visualization of the decision tree\n",
    "graph_viz = tree.export_graphviz(clf, out_file=None,\n",
    "                                 feature_names=features,\n",
    "                                 class_names=labels,\n",
    "                                 filled=True)\n",
    "graph = graphviz.Source(graph_viz)\n",
    "graph.view(cleanup=True)"
   ]
  },
  {
   "cell_type": "markdown",
   "id": "31a852c0",
   "metadata": {},
   "source": [
    "![alt text](image.png)"
   ]
  },
  {
   "cell_type": "markdown",
   "id": "0e457549",
   "metadata": {},
   "source": [
    "### 4. Creating and training a random forest model"
   ]
  },
  {
   "cell_type": "code",
   "execution_count": 9,
   "id": "c9d549d1",
   "metadata": {},
   "outputs": [],
   "source": [
    "from sklearn.ensemble import RandomForestClassifier\n"
   ]
  },
  {
   "cell_type": "code",
   "execution_count": 11,
   "id": "8c19c451",
   "metadata": {},
   "outputs": [
    {
     "name": "stdout",
     "output_type": "stream",
     "text": [
      "train accuracy= 100.000%\n",
      "test accuracy= 97.203%\n"
     ]
    }
   ],
   "source": [
    "clf = RandomForestClassifier(random_state=0)\n",
    "clf.fit(X_train, y_train)\n",
    "\n",
    "# Derivation of accuracy\n",
    "print(\"train accuracy= {:.3%}\".format(clf.score(X_train, y_train)))\n",
    "print(\"test accuracy= {:.3%}\".format(clf.score(X_test, y_test)))"
   ]
  },
  {
   "cell_type": "markdown",
   "id": "aa1ee6c8",
   "metadata": {},
   "source": [
    "### 5. Creating and training a Gradient Boosting model"
   ]
  },
  {
   "cell_type": "code",
   "execution_count": 12,
   "id": "242c2bae",
   "metadata": {},
   "outputs": [],
   "source": [
    "from sklearn.ensemble import GradientBoostingClassifier"
   ]
  },
  {
   "cell_type": "code",
   "execution_count": 13,
   "id": "b3881ab6",
   "metadata": {},
   "outputs": [
    {
     "name": "stdout",
     "output_type": "stream",
     "text": [
      "train accuracy= 100.000%\n",
      "test accuracy= 96.503%\n"
     ]
    }
   ],
   "source": [
    "clf = GradientBoostingClassifier(random_state=0)\n",
    "clf.fit(X_train, y_train)\n",
    "\n",
    "# Derivation of accuracy\n",
    "print(\"train accuracy= {:.3%}\".format(clf.score(X_train, y_train)))\n",
    "print(\"test accuracy= {:.3%}\".format(clf.score(X_test, y_test)))\n"
   ]
  },
  {
   "cell_type": "markdown",
   "id": "08965ee6",
   "metadata": {},
   "source": [
    "### 6. Creating and training an XGBoost model"
   ]
  },
  {
   "cell_type": "code",
   "execution_count": 14,
   "id": "23ad407d",
   "metadata": {},
   "outputs": [],
   "source": [
    "from xgboost import XGBClassifier"
   ]
  },
  {
   "cell_type": "code",
   "execution_count": 16,
   "id": "514ece63",
   "metadata": {},
   "outputs": [
    {
     "name": "stdout",
     "output_type": "stream",
     "text": [
      "train accuracy= 100.000%\n",
      "test accuracy= 98.601%\n"
     ]
    },
    {
     "name": "stderr",
     "output_type": "stream",
     "text": [
      "r:\\04 WORK\\Amazinum\\Tasks\\.venv\\Lib\\site-packages\\xgboost\\training.py:183: UserWarning: [13:48:13] WARNING: C:\\actions-runner\\_work\\xgboost\\xgboost\\src\\learner.cc:738: \n",
      "Parameters: { \"use_label_encoder\" } are not used.\n",
      "\n",
      "  bst.update(dtrain, iteration=i, fobj=obj)\n"
     ]
    }
   ],
   "source": [
    "clf = XGBClassifier(use_label_encoder=False, eval_metric='logloss', random_state=0)\n",
    "clf.fit(X_train, y_train)\n",
    "\n",
    "# Derivation of accuracy\n",
    "print(\"train accuracy= {:.3%}\".format(clf.score(X_train, y_train)))\n",
    "print(\"test accuracy= {:.3%}\".format(clf.score(X_test, y_test)))"
   ]
  },
  {
   "cell_type": "code",
   "execution_count": 18,
   "id": "0cc1cc47",
   "metadata": {},
   "outputs": [],
   "source": [
    "from xgboost import plot_importance\n",
    "import matplotlib.pyplot as plt"
   ]
  },
  {
   "cell_type": "code",
   "execution_count": 19,
   "id": "ff9d3ed5",
   "metadata": {},
   "outputs": [
    {
     "data": {
      "image/png": "[encoded data removed]",
      "text/plain": [
       "<Figure size 640x480 with 1 Axes>"
      ]
     },
     "metadata": {},
     "output_type": "display_data"
    }
   ],
   "source": [
    "# Visualization of feature importance\n",
    "plot_importance(clf, max_num_features=10, importance_type='gain')\n",
    "plt.title(\"XGBoost Feature Importance (Top 10)\")\n",
    "plt.show()"
   ]
  }
 ],
 "metadata": {
  "kernelspec": {
   "display_name": ".venv",
   "language": "python",
   "name": "python3"
  },
  "language_info": {
   "codemirror_mode": {
    "name": "ipython",
    "version": 3
   },
   "file_extension": ".py",
   "mimetype": "text/x-python",
   "name": "python",
   "nbconvert_exporter": "python",
   "pygments_lexer": "ipython3",
   "version": "3.13.1"
  }
 },
 "nbformat": 4,
 "nbformat_minor": 5
}
